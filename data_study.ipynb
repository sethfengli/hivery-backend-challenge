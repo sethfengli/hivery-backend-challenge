{
 "nbformat": 4,
 "nbformat_minor": 2,
 "metadata": {
  "language_info": {
   "name": "python",
   "codemirror_mode": {
    "name": "ipython",
    "version": 3
   },
   "version": "3.7.4-final"
  },
  "orig_nbformat": 2,
  "file_extension": ".py",
  "mimetype": "text/x-python",
  "name": "python",
  "npconvert_exporter": "python",
  "pygments_lexer": "ipython3",
  "version": 3,
  "kernelspec": {
   "name": "python37464bithiverybackendchallengemasterpipenvd19755af944a4be797ad2e6a7ded3812",
   "display_name": "Python 3.7.4 64-bit ('hivery-backend-challenge-master': pipenv)"
  }
 },
 "cells": [
  {
   "cell_type": "code",
   "execution_count": 1,
   "metadata": {},
   "outputs": [],
   "source": [
    "#import basic libaries for data study\n",
    "import numpy as np\n",
    "import pandas as pd\n",
    "import os\n",
    "import json\n",
    "import unidecode\n"
   ]
  },
  {
   "cell_type": "code",
   "execution_count": 2,
   "metadata": {},
   "outputs": [],
   "source": [
    "path = os.getcwd()"
   ]
  },
  {
   "cell_type": "code",
   "execution_count": 3,
   "metadata": {},
   "outputs": [
    {
     "data": {
      "text/html": "<div>\n<style scoped>\n    .dataframe tbody tr th:only-of-type {\n        vertical-align: middle;\n    }\n\n    .dataframe tbody tr th {\n        vertical-align: top;\n    }\n\n    .dataframe thead th {\n        text-align: right;\n    }\n</style>\n<table border=\"1\" class=\"dataframe\">\n  <thead>\n    <tr style=\"text-align: right;\">\n      <th></th>\n      <th>_id</th>\n      <th>index</th>\n      <th>guid</th>\n      <th>has_died</th>\n      <th>balance</th>\n      <th>picture</th>\n      <th>age</th>\n      <th>eyeColor</th>\n      <th>name</th>\n      <th>gender</th>\n      <th>company_id</th>\n      <th>email</th>\n      <th>phone</th>\n      <th>address</th>\n      <th>about</th>\n      <th>registered</th>\n      <th>tags</th>\n      <th>friends</th>\n      <th>greeting</th>\n      <th>favouriteFood</th>\n    </tr>\n  </thead>\n  <tbody>\n    <tr>\n      <th>0</th>\n      <td>595eeb9b96d80a5bc7afb106</td>\n      <td>0</td>\n      <td>5e71dc5d-61c0-4f3b-8b92-d77310c7fa43</td>\n      <td>True</td>\n      <td>$2,418.59</td>\n      <td>http://placehold.it/32x32</td>\n      <td>61</td>\n      <td>blue</td>\n      <td>Carmella Lambert</td>\n      <td>female</td>\n      <td>58</td>\n      <td>carmellalambert@earthmark.com</td>\n      <td>+1 (910) 567-3630</td>\n      <td>628 Sumner Place, Sperryville, American Samoa,...</td>\n      <td>Non duis dolore ad enim. Est id reprehenderit ...</td>\n      <td>2016-07-13T12:29:07 -10:00</td>\n      <td>[id, quis, ullamco, consequat, laborum, sint, ...</td>\n      <td>[{'index': 0}, {'index': 1}, {'index': 2}]</td>\n      <td>Hello, Carmella Lambert! You have 6 unread mes...</td>\n      <td>[orange, apple, banana, strawberry]</td>\n    </tr>\n    <tr>\n      <th>1</th>\n      <td>595eeb9b1e0d8942524c98ad</td>\n      <td>1</td>\n      <td>b057bb65-e335-450e-b6d2-d4cc859ff6cc</td>\n      <td>False</td>\n      <td>$1,562.58</td>\n      <td>http://placehold.it/32x32</td>\n      <td>60</td>\n      <td>brown</td>\n      <td>Decker Mckenzie</td>\n      <td>male</td>\n      <td>98</td>\n      <td>deckermckenzie@earthmark.com</td>\n      <td>+1 (893) 587-3311</td>\n      <td>492 Stockton Street, Lawrence, Guam, 4854</td>\n      <td>Consectetur aute consectetur dolor aliquip dol...</td>\n      <td>2017-06-25T10:03:49 -10:00</td>\n      <td>[veniam, irure, mollit, sunt, amet, fugiat, ex]</td>\n      <td>[{'index': 0}, {'index': 1}, {'index': 2}]</td>\n      <td>Hello, Decker Mckenzie! You have 2 unread mess...</td>\n      <td>[cucumber, beetroot, carrot, celery]</td>\n    </tr>\n    <tr>\n      <th>2</th>\n      <td>595eeb9bb3821d9982ea44f9</td>\n      <td>2</td>\n      <td>49c04b8d-0a96-4319-b310-d6aa8269adca</td>\n      <td>False</td>\n      <td>$2,119.44</td>\n      <td>http://placehold.it/32x32</td>\n      <td>54</td>\n      <td>blue</td>\n      <td>Bonnie Bass</td>\n      <td>female</td>\n      <td>59</td>\n      <td>bonniebass@earthmark.com</td>\n      <td>+1 (823) 428-3710</td>\n      <td>455 Dictum Court, Nadine, Mississippi, 6499</td>\n      <td>Non voluptate reprehenderit ad elit veniam nul...</td>\n      <td>2017-06-08T04:23:18 -10:00</td>\n      <td>[quis, sunt, sit, aliquip, pariatur, quis, nulla]</td>\n      <td>[{'index': 0}, {'index': 1}, {'index': 2}]</td>\n      <td>Hello, Bonnie Bass! You have 10 unread messages.</td>\n      <td>[orange, beetroot, banana, strawberry]</td>\n    </tr>\n    <tr>\n      <th>3</th>\n      <td>595eeb9bfa3a6e19be68df9e</td>\n      <td>3</td>\n      <td>64d71744-1af5-46fd-84bc-4bf37c193b2d</td>\n      <td>True</td>\n      <td>$3,453.69</td>\n      <td>http://placehold.it/32x32</td>\n      <td>30</td>\n      <td>blue</td>\n      <td>Rosemary Hayes</td>\n      <td>female</td>\n      <td>48</td>\n      <td>rosemaryhayes@earthmark.com</td>\n      <td>+1 (984) 437-3226</td>\n      <td>130 Bay Parkway, Marshall, Virgin Islands, 298</td>\n      <td>Enim velit irure adipisicing eiusmod cillum ul...</td>\n      <td>2015-04-22T03:36:03 -10:00</td>\n      <td>[officia, voluptate, aute, consequat, aliqua, ...</td>\n      <td>[{'index': 0}, {'index': 1}, {'index': 2}, {'i...</td>\n      <td>Hello, Rosemary Hayes! You have 1 unread messa...</td>\n      <td>[orange, apple, carrot, celery]</td>\n    </tr>\n    <tr>\n      <th>4</th>\n      <td>595eeb9b309724177239a445</td>\n      <td>4</td>\n      <td>b4ec861a-7b57-4830-bf46-140135123549</td>\n      <td>False</td>\n      <td>$3,433.05</td>\n      <td>http://placehold.it/32x32</td>\n      <td>62</td>\n      <td>brown</td>\n      <td>Mindy Beasley</td>\n      <td>female</td>\n      <td>18</td>\n      <td>mindybeasley@earthmark.com</td>\n      <td>+1 (862) 503-2197</td>\n      <td>628 Brevoort Place, Bellamy, Kansas, 2696</td>\n      <td>Et consequat mollit occaecat in eiusmod ipsum ...</td>\n      <td>2017-03-19T03:28:28 -11:00</td>\n      <td>[exercitation, ad, velit, deserunt, eiusmod, c...</td>\n      <td>[{'index': 0}, {'index': 1}, {'index': 2}, {'i...</td>\n      <td>Hello, Mindy Beasley! You have 8 unread messages.</td>\n      <td>[orange, apple, banana, strawberry]</td>\n    </tr>\n  </tbody>\n</table>\n</div>",
      "text/plain": "                        _id  index                                  guid  \\\n0  595eeb9b96d80a5bc7afb106      0  5e71dc5d-61c0-4f3b-8b92-d77310c7fa43   \n1  595eeb9b1e0d8942524c98ad      1  b057bb65-e335-450e-b6d2-d4cc859ff6cc   \n2  595eeb9bb3821d9982ea44f9      2  49c04b8d-0a96-4319-b310-d6aa8269adca   \n3  595eeb9bfa3a6e19be68df9e      3  64d71744-1af5-46fd-84bc-4bf37c193b2d   \n4  595eeb9b309724177239a445      4  b4ec861a-7b57-4830-bf46-140135123549   \n\n   has_died    balance                    picture  age eyeColor  \\\n0      True  $2,418.59  http://placehold.it/32x32   61     blue   \n1     False  $1,562.58  http://placehold.it/32x32   60    brown   \n2     False  $2,119.44  http://placehold.it/32x32   54     blue   \n3      True  $3,453.69  http://placehold.it/32x32   30     blue   \n4     False  $3,433.05  http://placehold.it/32x32   62    brown   \n\n               name  gender  company_id                          email  \\\n0  Carmella Lambert  female          58  carmellalambert@earthmark.com   \n1   Decker Mckenzie    male          98   deckermckenzie@earthmark.com   \n2       Bonnie Bass  female          59       bonniebass@earthmark.com   \n3    Rosemary Hayes  female          48    rosemaryhayes@earthmark.com   \n4     Mindy Beasley  female          18     mindybeasley@earthmark.com   \n\n               phone                                            address  \\\n0  +1 (910) 567-3630  628 Sumner Place, Sperryville, American Samoa,...   \n1  +1 (893) 587-3311          492 Stockton Street, Lawrence, Guam, 4854   \n2  +1 (823) 428-3710        455 Dictum Court, Nadine, Mississippi, 6499   \n3  +1 (984) 437-3226     130 Bay Parkway, Marshall, Virgin Islands, 298   \n4  +1 (862) 503-2197          628 Brevoort Place, Bellamy, Kansas, 2696   \n\n                                               about  \\\n0  Non duis dolore ad enim. Est id reprehenderit ...   \n1  Consectetur aute consectetur dolor aliquip dol...   \n2  Non voluptate reprehenderit ad elit veniam nul...   \n3  Enim velit irure adipisicing eiusmod cillum ul...   \n4  Et consequat mollit occaecat in eiusmod ipsum ...   \n\n                   registered  \\\n0  2016-07-13T12:29:07 -10:00   \n1  2017-06-25T10:03:49 -10:00   \n2  2017-06-08T04:23:18 -10:00   \n3  2015-04-22T03:36:03 -10:00   \n4  2017-03-19T03:28:28 -11:00   \n\n                                                tags  \\\n0  [id, quis, ullamco, consequat, laborum, sint, ...   \n1    [veniam, irure, mollit, sunt, amet, fugiat, ex]   \n2  [quis, sunt, sit, aliquip, pariatur, quis, nulla]   \n3  [officia, voluptate, aute, consequat, aliqua, ...   \n4  [exercitation, ad, velit, deserunt, eiusmod, c...   \n\n                                             friends  \\\n0         [{'index': 0}, {'index': 1}, {'index': 2}]   \n1         [{'index': 0}, {'index': 1}, {'index': 2}]   \n2         [{'index': 0}, {'index': 1}, {'index': 2}]   \n3  [{'index': 0}, {'index': 1}, {'index': 2}, {'i...   \n4  [{'index': 0}, {'index': 1}, {'index': 2}, {'i...   \n\n                                            greeting  \\\n0  Hello, Carmella Lambert! You have 6 unread mes...   \n1  Hello, Decker Mckenzie! You have 2 unread mess...   \n2   Hello, Bonnie Bass! You have 10 unread messages.   \n3  Hello, Rosemary Hayes! You have 1 unread messa...   \n4  Hello, Mindy Beasley! You have 8 unread messages.   \n\n                            favouriteFood  \n0     [orange, apple, banana, strawberry]  \n1    [cucumber, beetroot, carrot, celery]  \n2  [orange, beetroot, banana, strawberry]  \n3         [orange, apple, carrot, celery]  \n4     [orange, apple, banana, strawberry]  "
     },
     "execution_count": 3,
     "metadata": {},
     "output_type": "execute_result"
    }
   ],
   "source": [
    "# load the test data set and have a glance at it\n",
    "df = pd.read_json( os.path.join(path, 'resources\\\\people.json'))\n",
    "df.head()"
   ]
  },
  {
   "cell_type": "code",
   "execution_count": 4,
   "metadata": {},
   "outputs": [
    {
     "name": "stdout",
     "output_type": "stream",
     "text": "Max length of column _id: 24\n\nMax length of column guid: 36\n\nMax length of column balance: 9\n\nMax length of column picture: 25\n\nMax length of column eyeColor: 5\n\nMax length of column name: 20\n\nMax length of column gender: 6\n\nMax length of column email: 33\n\nMax length of column phone: 17\n\nMax length of column address: 71\n\nMax length of column about: 612\n\nMax length of column registered: 26\n\nMax length of column tags: 7\n\nMax length of column friends: 20\n\nMax length of column greeting: 56\n\nMax length of column favouriteFood: 4\n\n"
    }
   ],
   "source": [
    "# get data max len of columns name\n",
    "for c in df:\n",
    "    if df[c].dtype == 'object':\n",
    "        print('Max length of column %s: %s\\n' %  (c, df[c].map(len).max()))\n",
    "        #print('%s = models.CharField(max_length=%s, blank=True) \\n' %  (c, df[c].map(len).max()))"
   ]
  },
  {
   "cell_type": "code",
   "execution_count": 5,
   "metadata": {},
   "outputs": [
    {
     "data": {
      "text/plain": "{'apple', 'banana', 'orange', 'strawberry'}"
     },
     "execution_count": 5,
     "metadata": {},
     "output_type": "execute_result"
    }
   ],
   "source": [
    "# test the favouriteFood column data\n",
    "set (df['favouriteFood'][0])\n"
   ]
  },
  {
   "cell_type": "code",
   "execution_count": 6,
   "metadata": {},
   "outputs": [
    {
     "data": {
      "text/plain": "{1,\n 2,\n 3,\n 4,\n 5,\n 6,\n 7,\n 8,\n 9,\n 10,\n 11,\n 12,\n 13,\n 14,\n 15,\n 16,\n 17,\n 18,\n 19,\n 20,\n 21,\n 22,\n 23,\n 24,\n 25,\n 26,\n 27,\n 28,\n 29,\n 30,\n 31,\n 32,\n 33,\n 34,\n 35,\n 36,\n 37,\n 38,\n 39,\n 40,\n 41,\n 42,\n 43,\n 44,\n 45,\n 46,\n 47,\n 48,\n 49,\n 50,\n 51,\n 52,\n 53,\n 54,\n 55,\n 56,\n 57,\n 58,\n 59,\n 60,\n 61,\n 62,\n 63,\n 64,\n 65,\n 66,\n 67,\n 68,\n 69,\n 70,\n 71,\n 72,\n 73,\n 74,\n 75,\n 76,\n 77,\n 78,\n 79,\n 80,\n 81,\n 82,\n 83,\n 84,\n 85,\n 86,\n 87,\n 88,\n 89,\n 90,\n 91,\n 92,\n 93,\n 94,\n 95,\n 96,\n 97,\n 98,\n 99,\n 100}"
     },
     "execution_count": 6,
     "metadata": {},
     "output_type": "execute_result"
    }
   ],
   "source": [
    "# In the companies.json file the index field start from 0, so it looks like company_id should be  to map field index -1 in company\n",
    "set (df['company_id'])"
   ]
  },
  {
   "cell_type": "code",
   "execution_count": 7,
   "metadata": {},
   "outputs": [
    {
     "data": {
      "text/plain": "{'apple',\n 'banana',\n 'beetroot',\n 'carrot',\n 'celery',\n 'cucumber',\n 'orange',\n 'strawberry'}"
     },
     "execution_count": 7,
     "metadata": {},
     "output_type": "execute_result"
    }
   ],
   "source": [
    "# Get the possible favourite food set from all rows \n",
    "favouriteFoodSet = set('')\n",
    "\n",
    "for i in range(len(df.index)):\n",
    "    favouriteFoodSet = favouriteFoodSet.union(set(df['favouriteFood'].iloc[i]))\n",
    "\n",
    "favouriteFoodSet"
   ]
  },
  {
   "cell_type": "code",
   "execution_count": 8,
   "metadata": {},
   "outputs": [],
   "source": [
    "# Get Fruits and list of fruits from https://simple.wikipedia.org/wiki/List_of_fruits\n",
    "# The fruit sometimes considered to be vegetables had been put to vegetables list\n",
    "# Data had been clean and put to fruitNames.txt\n",
    "\n",
    "with open( os.path.join(os.getcwd(),  \"extra_resource\\\\fruitNames.txt\"), \"r\", encoding=\"utf-8\") as fruitNamesFile:\n",
    "  fruitNames = unidecode.unidecode( fruitNamesFile.read())"
   ]
  },
  {
   "cell_type": "code",
   "execution_count": 9,
   "metadata": {},
   "outputs": [
    {
     "data": {
      "text/plain": "['acai',\n 'akee',\n 'apple',\n 'apricot',\n 'avocado',\n 'banana',\n 'bilberry',\n 'blackberry',\n 'blackcurrant',\n 'black sapote',\n 'blueberry',\n 'boysenberry',\n \"buddha's hand\",\n 'fingered citron',\n 'cactus pear',\n 'crab apple',\n 'currant',\n 'cherry',\n 'cherimoya',\n 'custard apple',\n 'chico fruit',\n 'cloudberry',\n 'coconut',\n 'cranberry',\n 'damson',\n 'date',\n 'dragonfruit',\n 'pitaya',\n 'durian',\n 'elderberry',\n 'feijoa',\n 'fig',\n 'goji berry',\n 'gooseberry',\n 'grape',\n 'raisin',\n 'grapefruit',\n 'guava',\n 'honeyberry',\n 'huckleberry',\n 'jabuticaba',\n 'jackfruit',\n 'jambul',\n 'japanese plum',\n 'jostaberry',\n 'jujube',\n 'juniper berry',\n 'kiwano',\n 'horned melon',\n 'kiwifruit',\n 'kumquat',\n 'lemon',\n 'lime',\n 'loganberry',\n 'loquat',\n 'longan',\n 'lychee',\n 'mango',\n 'mangosteen',\n 'marionberry',\n 'melon',\n 'cantaloupe',\n 'honeydew',\n 'watermelon',\n 'miracle fruit',\n 'mulberry',\n 'nectarine',\n 'nance',\n 'orange',\n 'blood orange',\n 'clementine',\n 'mandarine',\n 'tangerine',\n 'papaya',\n 'passionfruit',\n 'peach',\n 'pear',\n 'persimmon',\n 'plantain',\n 'plum',\n 'prune',\n 'dried plum',\n 'pineapple',\n 'pineberry',\n 'plumcot ',\n 'pluot',\n 'pomegranate',\n 'pomelo',\n 'purple mangosteen',\n 'quince',\n 'raspberry',\n 'salmonberry',\n 'rambutan',\n 'mamin',\n 'chino',\n 'redcurrant',\n 'salal berry',\n 'salak',\n 'satsuma',\n 'soursop',\n 'star apple',\n 'star fruit',\n 'strawberry',\n 'surinam cherry',\n 'tamarillo',\n 'tamarind',\n 'tangelo',\n 'tayberry',\n 'ugli fruit',\n 'white currant',\n 'white sapote',\n 'yuzu']"
     },
     "execution_count": 9,
     "metadata": {},
     "output_type": "execute_result"
    }
   ],
   "source": [
    "# get fruits name list\n",
    "fruits = fruitNames.lower().splitlines()\n",
    "fruits"
   ]
  },
  {
   "cell_type": "code",
   "execution_count": 10,
   "metadata": {},
   "outputs": [],
   "source": [
    "# get list of vegetables from https://simple.wikipedia.org/wiki/List_of_vegetables\n",
    "# The fruit sometimes considered to be vegetables had been put to vegetables list\n",
    "# data had been clean and put to fruitNames.txt\n",
    "\n",
    "with open( os.path.join(os.getcwd(),  \"extra_resource\\\\vegetablesNames.txt\"), \"r\", encoding=\"utf-8\") as vegetableNamesFile:\n",
    "  vegetableNames = unidecode.unidecode(vegetableNamesFile.read())"
   ]
  },
  {
   "cell_type": "code",
   "execution_count": 11,
   "metadata": {},
   "outputs": [
    {
     "data": {
      "text/plain": "['artichoke',\n 'aubergine',\n 'eggplant',\n 'asparagus',\n 'legumes',\n 'alfalfa sprouts',\n 'azuki beans',\n 'adzuki',\n 'bean sprouts',\n 'black beans',\n 'black-eyed peas',\n 'borlotti bean',\n 'broad beans',\n 'chickpeas',\n 'garbanzos',\n 'ceci beans',\n 'green beans',\n 'kidney beans',\n 'lentils',\n 'lima beans',\n 'butter bean',\n 'mung beans',\n 'navy beans',\n 'peanuts',\n 'pinto beans',\n 'runner beans',\n 'split peas',\n 'soy beans',\n 'peas',\n 'mangetout',\n 'snap peas',\n 'broccoflower',\n 'broccoli',\n 'calabrese',\n 'brussels sprouts',\n 'cabbage',\n 'kohlrabi',\n 'savoy cabbage',\n 'red cabbage',\n 'pointed',\n 'sweetheart',\n 'cabbage',\n 'cauliflower',\n 'celery',\n 'endive',\n 'fiddleheads',\n 'frisee',\n 'fennel',\n 'greens',\n 'bok choy',\n 'chard',\n 'beet greens',\n 'collard greens',\n 'kale',\n 'mustard greens',\n 'spinach',\n 'herbs and spices',\n 'anise',\n 'basil',\n 'caraway',\n 'coriander',\n 'cilantro',\n 'chamomile',\n 'dill',\n 'fennel',\n 'lavender',\n 'cymbopogon',\n 'lemongrass',\n 'marjoram',\n 'oregano',\n 'parsley',\n 'rosemary',\n 'sage',\n 'thyme',\n 'lettuce',\n 'arugula',\n 'mushrooms',\n 'nettles',\n 'new zealand spinach',\n 'okra',\n 'onions',\n 'chives',\n 'garlic',\n 'leek',\n 'onion',\n 'shallot',\n 'scallion',\n 'spring onion',\n 'green onion',\n 'bell pepper',\n 'chili pepper',\n 'jalapeno',\n 'habanero',\n 'paprika',\n 'tabasco pepper',\n 'cayenne pepper',\n 'radicchio',\n 'rhubarb',\n 'root vegetables',\n 'beetroot',\n 'beet',\n 'mangel-wurzel',\n 'carrot',\n 'celeriac',\n 'corms',\n 'eddoe',\n 'konjac',\n 'taro',\n 'water chestnut',\n 'ginger',\n 'parsnip',\n 'rutabaga',\n 'radish',\n 'wasabi',\n 'horseradish',\n 'white radish',\n 'daikon',\n 'tubers',\n 'jicama',\n 'jerusalem artichoke',\n 'potato',\n 'sweet potato',\n 'yam',\n 'turnip',\n 'salsify',\n 'oyster plant',\n 'skirret',\n 'sweetcorn',\n 'topinambur',\n 'acorn squash',\n 'bitter melon',\n 'butternut squash',\n 'banana squash',\n 'courgette',\n 'zucchini',\n 'delicata',\n 'gem squash',\n 'hubbard squash',\n 'marrow',\n 'squash',\n 'spaghetti squash',\n 'tat soi',\n 'tomato',\n 'watercress',\n 'bell pepper',\n 'chile pepper',\n 'corn kernel',\n 'cucumber',\n 'eggplant',\n 'jalapeno',\n 'olive',\n 'pea',\n 'pumpkin',\n 'squash',\n 'tomato',\n 'zucchini']"
     },
     "execution_count": 11,
     "metadata": {},
     "output_type": "execute_result"
    }
   ],
   "source": [
    "vegetables = vegetableNames.lower().splitlines() \n",
    "vegetables"
   ]
  },
  {
   "cell_type": "code",
   "execution_count": 12,
   "metadata": {},
   "outputs": [
    {
     "data": {
      "text/plain": "set()"
     },
     "execution_count": 12,
     "metadata": {},
     "output_type": "execute_result"
    }
   ],
   "source": [
    "# Test our fruit and vegtables sets, our fruits and vergetables lists had covered all possible favourite food\n",
    "favouriteFoodSet - (set (fruits).union(set (vegetables)))"
   ]
  },
  {
   "cell_type": "code",
   "execution_count": 13,
   "metadata": {},
   "outputs": [
    {
     "data": {
      "text/plain": "(112, 112, 156, 148)"
     },
     "execution_count": 13,
     "metadata": {},
     "output_type": "execute_result"
    }
   ],
   "source": [
    "# check if there are any dulicated items\n",
    "\n",
    "len(fruits) , len (set(fruits)), len(vegetables) , len (set(vegetables))"
   ]
  },
  {
   "cell_type": "code",
   "execution_count": 14,
   "metadata": {},
   "outputs": [],
   "source": [
    "# Save fruits list to resource folder in JSON format\n",
    "\n",
    "fruits = list(set(fruits)) # remove the dulicated items\n",
    "fruits.sort()              # sort the list\n",
    "\n",
    "with open(os.path.join(path, 'resources\\\\fruits.json'), 'w', encoding='utf-8') as f:\n",
    "    json.dump([{\"index\":count, \"fruitName\": name} for count, name in enumerate(fruits)] , f, ensure_ascii=False, indent=4)\n"
   ]
  },
  {
   "cell_type": "code",
   "execution_count": 15,
   "metadata": {},
   "outputs": [],
   "source": [
    "# Save vegetables list to resource folder in JSON format\n",
    "\n",
    "vegetables = list(set(vegetables)) # remove the dulicated items\n",
    "vegetables.sort()                  # sort the list\n",
    "\n",
    "with open(os.path.join(path, 'resources\\\\vegetables.json'), 'w', encoding='utf-8') as f:\n",
    "    json.dump([{\"index\":count, \"vegetableName\": name} for count, name in enumerate(vegetables)] , f, ensure_ascii=False, indent=4)"
   ]
  },
  {
   "cell_type": "code",
   "execution_count": 16,
   "metadata": {},
   "outputs": [
    {
     "data": {
      "text/plain": "{'Lorem',\n 'ad',\n 'adipisicing',\n 'aliqua',\n 'aliquip',\n 'amet',\n 'anim',\n 'aute',\n 'cillum',\n 'commodo',\n 'consectetur',\n 'consequat',\n 'culpa',\n 'cupidatat',\n 'deserunt',\n 'do',\n 'dolor',\n 'dolore',\n 'duis',\n 'ea',\n 'eiusmod',\n 'elit',\n 'enim',\n 'esse',\n 'est',\n 'et',\n 'eu',\n 'ex',\n 'excepteur',\n 'exercitation',\n 'fugiat',\n 'id',\n 'in',\n 'incididunt',\n 'ipsum',\n 'irure',\n 'labore',\n 'laboris',\n 'laborum',\n 'magna',\n 'minim',\n 'mollit',\n 'nisi',\n 'non',\n 'nostrud',\n 'nulla',\n 'occaecat',\n 'officia',\n 'pariatur',\n 'proident',\n 'qui',\n 'quis',\n 'reprehenderit',\n 'sint',\n 'sit',\n 'sunt',\n 'tempor',\n 'ullamco',\n 'ut',\n 'velit',\n 'veniam',\n 'voluptate'}"
     },
     "execution_count": 16,
     "metadata": {},
     "output_type": "execute_result"
    }
   ],
   "source": [
    "# Get the possible favourite food set from all rows \n",
    "TagSet = set('')\n",
    "\n",
    "for i in range(len(df.index)):\n",
    "    TagSet = TagSet.union(set(df['tags'].iloc[i]))\n",
    "    #print(set(df['favouriteFood'].iloc[i]))\n",
    "\n",
    "TagSet"
   ]
  },
  {
   "cell_type": "code",
   "execution_count": 17,
   "metadata": {},
   "outputs": [],
   "source": [
    "# Save Tags list to resource folder in JSON format\n",
    "\n",
    "tags = list(TagSet) # remove the dulicated items\n",
    "tags.sort()              # sort the list\n",
    "\n",
    "with open(os.path.join(path, 'resources\\\\tags.json'), 'w', encoding='utf-8') as f:\n",
    "    json.dump([{\"index\":count, \"tagName\": name} for count, name in enumerate(tags)] , f, ensure_ascii=False, indent=4)\n"
   ]
  },
  {
   "cell_type": "code",
   "execution_count": null,
   "metadata": {},
   "outputs": [],
   "source": []
  }
 ]
}